{
 "cells": [
  {
   "cell_type": "code",
   "execution_count": 2,
   "metadata": {
    "collapsed": true
   },
   "outputs": [],
   "source": [
    "#import something\n",
    "import pandas as pd\n",
    "import numpy as np\n",
    "import matplotlib.pyplot as plt\n",
    "from sklearn.decomposition import PCA\n",
    "import seaborn as sns\n",
    "%matplotlib inline"
   ]
  },
  {
   "cell_type": "markdown",
   "metadata": {},
   "source": [
    "Load the data!"
   ]
  },
  {
   "cell_type": "code",
   "execution_count": 49,
   "metadata": {
    "scrolled": false
   },
   "outputs": [
    {
     "name": "stdout",
     "output_type": "stream",
     "text": [
      "(1460, 80)\n"
     ]
    }
   ],
   "source": [
    "df_train=pd.read_csv('./data/train.csv')\n",
    "df_test=pd.read_csv('./data/test.csv') \n",
    "df_train_test=pd.concat([df_train,df_test],axis=0)\n",
    "# df_train_test=pd.get_dummies(df_train_test)\n",
    "df_train=df_train_test[:len(df_train)]\n",
    "df_test=df_train_test[len(df_train):]\n",
    "df_train_without_price=df_train.drop('SalePrice',1)\n",
    "print(df_train_without_price.shape)"
   ]
  },
  {
   "cell_type": "markdown",
   "metadata": {},
   "source": [
    "Here I just use the PCA to reduce feature dimensions"
   ]
  },
  {
   "cell_type": "code",
   "execution_count": 115,
   "metadata": {},
   "outputs": [
    {
     "name": "stdout",
     "output_type": "stream",
     "text": [
      "(1460, 37) (1460, 43) (1460, 252)\n"
     ]
    }
   ],
   "source": [
    "col=~(df_train_without_price.applymap(np.isreal).all(0))\n",
    "col_str=col.index.values[col.values]\n",
    "col_val=col.index.values[~col.values]\n",
    "df_train_str_col=pd.DataFrame(df_train_without_price,columns=col_str)\n",
    "# df_train_str_col=df_train_str_col.fillna('Nan')\n",
    "\n",
    "df_train_val_col=pd.DataFrame(df_train_without_price,columns=col_val)\n",
    "df_train_str_col_dummy=pd.get_dummies(df_train_str_col)\n",
    "price=df_train['SalePrice']\n",
    "print(df_train_val_col.shape,df_train_str_col.shape,df_train_str_col_dummy.shape)\n"
   ]
  },
  {
   "cell_type": "code",
   "execution_count": null,
   "metadata": {
    "collapsed": true
   },
   "outputs": [],
   "source": []
  },
  {
   "cell_type": "code",
   "execution_count": 8,
   "metadata": {},
   "outputs": [
    {
     "data": {
      "text/plain": [
       "PCA(copy=True, iterated_power='auto', n_components=289, random_state=None,\n",
       "  svd_solver='auto', tol=0.0, whiten=False)"
      ]
     },
     "execution_count": 8,
     "metadata": {},
     "output_type": "execute_result"
    }
   ],
   "source": [
    "#pca=PCA(df_train_without_price.fillna(0).values)\n",
    "pca = PCA(n_components=289)\n",
    "pca.fit(df_train_without_price.fillna(0))\n",
    "# print(pca.explained_variance_ratio_)"
   ]
  },
  {
   "cell_type": "markdown",
   "metadata": {},
   "source": [
    "As we can tell from PCA projects into 289 different dimensions, the first 7th \n",
    "new projections' variances are at least in rank 10^(-3)\n",
    "the first 12th new projections' variances are at least in rank 10^(-4)."
   ]
  },
  {
   "cell_type": "code",
   "execution_count": 11,
   "metadata": {
    "collapsed": true
   },
   "outputs": [],
   "source": [
    "# pca.fracs\n",
    "price=df_train['SalePrice']\n",
    "#need to move the price when calc pca\n",
    "#pick the first 10 feature\n",
    "T_df_tran_without_price=pd.DataFrame(pca.transform(df_train_without_price.fillna(0))[:,:10])"
   ]
  },
  {
   "cell_type": "raw",
   "metadata": {},
   "source": [
    "concat the price back to data\n",
    "need to drop NaN"
   ]
  },
  {
   "cell_type": "code",
   "execution_count": 12,
   "metadata": {
    "collapsed": true
   },
   "outputs": [],
   "source": [
    "data=pd.concat([price,T_df_tran_without_price],axis=1)\n",
    "data=data.dropna();"
   ]
  },
  {
   "cell_type": "markdown",
   "metadata": {},
   "source": [
    "a simple regressor"
   ]
  },
  {
   "cell_type": "code",
   "execution_count": 13,
   "metadata": {
    "collapsed": true
   },
   "outputs": [],
   "source": [
    "from sklearn.ensemble import RandomForestRegressor"
   ]
  },
  {
   "cell_type": "code",
   "execution_count": 14,
   "metadata": {
    "collapsed": true
   },
   "outputs": [],
   "source": [
    "regr = RandomForestRegressor(max_depth=5, random_state=0)"
   ]
  },
  {
   "cell_type": "code",
   "execution_count": 15,
   "metadata": {},
   "outputs": [
    {
     "data": {
      "text/plain": [
       "RandomForestRegressor(bootstrap=True, criterion='mse', max_depth=5,\n",
       "           max_features='auto', max_leaf_nodes=None,\n",
       "           min_impurity_decrease=0.0, min_impurity_split=None,\n",
       "           min_samples_leaf=1, min_samples_split=2,\n",
       "           min_weight_fraction_leaf=0.0, n_estimators=10, n_jobs=1,\n",
       "           oob_score=False, random_state=0, verbose=0, warm_start=False)"
      ]
     },
     "execution_count": 15,
     "metadata": {},
     "output_type": "execute_result"
    }
   ],
   "source": [
    "regr.fit(data.drop('SalePrice',axis=1).values,data['SalePrice'].values )"
   ]
  },
  {
   "cell_type": "markdown",
   "metadata": {},
   "source": [
    "also need to drop the NaN\n",
    "I don't know why there will be NaN, shouldn't appear\n",
    "need to fix this"
   ]
  },
  {
   "cell_type": "code",
   "execution_count": 19,
   "metadata": {
    "collapsed": true
   },
   "outputs": [],
   "source": [
    "df_test_without_price=df_test.drop('SalePrice',1)\n",
    "T_df_test_without_price=pd.DataFrame(pca.transform(df_test_without_price.fillna(0))[:,:10])\n",
    "id_T=pd.concat([df_test['Id'],T_df_test_without_price],axis=1)\n",
    "data=id_T.dropna();"
   ]
  },
  {
   "cell_type": "code",
   "execution_count": 20,
   "metadata": {
    "collapsed": true
   },
   "outputs": [],
   "source": [
    "predict=regr.predict(data.drop('Id',axis=1).values)"
   ]
  },
  {
   "cell_type": "markdown",
   "metadata": {},
   "source": [
    "write the upload result to result.csv"
   ]
  },
  {
   "cell_type": "code",
   "execution_count": 21,
   "metadata": {
    "collapsed": true
   },
   "outputs": [],
   "source": [
    "res=pd.DataFrame({'Id':data['Id'].values,'SalePrice':predict})\n",
    "res.to_csv('./data/result.csv',index=False)"
   ]
  },
  {
   "cell_type": "code",
   "execution_count": null,
   "metadata": {
    "collapsed": true
   },
   "outputs": [],
   "source": []
  }
 ],
 "metadata": {
  "kernelspec": {
   "display_name": "Python 3",
   "language": "python",
   "name": "python3"
  },
  "language_info": {
   "codemirror_mode": {
    "name": "ipython",
    "version": 3
   },
   "file_extension": ".py",
   "mimetype": "text/x-python",
   "name": "python",
   "nbconvert_exporter": "python",
   "pygments_lexer": "ipython3",
   "version": "3.6.2"
  }
 },
 "nbformat": 4,
 "nbformat_minor": 1
}
