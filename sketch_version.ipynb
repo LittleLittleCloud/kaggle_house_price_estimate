{
 "cells": [
  {
   "cell_type": "code",
   "execution_count": null,
   "metadata": {},
   "outputs": [],
   "source": [
    "#import something\n",
    "import pandas as pd\n",
    "import numpy as np\n",
    "import matplotlib.pyplot as plt\n",
    "from matplotlib.mlab import PCA\n",
    "import seaborn as sns\n",
    "%matplotlib inline"
   ]
  },
  {
   "cell_type": "markdown",
   "metadata": {},
   "source": [
    "Load the data!"
   ]
  },
  {
   "cell_type": "code",
   "execution_count": null,
   "metadata": {
    "scrolled": false
   },
   "outputs": [
    {
     "name": "stdout",
     "output_type": "stream",
     "text": [
      "(1460, 290) (1459, 290)\n"
     ]
    }
   ],
   "source": [
    "df_train=pd.read_csv('./data/train_modified.csv')\n",
    "df_test=pd.read_csv('./data/test_modified.csv') \n",
    "df_train_test=pd.concat([df_train,df_test],axis=0)\n",
    "df_train_test=pd.get_dummies(df_train_test)\n",
    "df_train=df_train_test[:len(df_train)]\n",
    "df_test=df_train_test[len(df_train):]\n",
    "df_train_without_price=df_train.drop('SalePrice',1)"
   ]
  },
  {
   "cell_type": "markdown",
   "metadata": {},
   "source": [
    "Here I just use the PCA to pick the feature"
   ]
  },
  {
   "cell_type": "code",
   "execution_count": null,
   "metadata": {},
   "outputs": [],
   "source": [
    "df_train_without_price=pd.get_dummies(df_train_without_price)\n",
    "pca=PCA(df_train_without_price.fillna(0).values)"
   ]
  },
  {
   "cell_type": "code",
   "execution_count": null,
   "metadata": {
    "collapsed": true
   },
   "outputs": [],
   "source": [
    "# pca.fracs\n",
    "price=df_train['SalePrice']\n",
    "#need to move the price when calc pca\n",
    "#pick the first 10 feature\n",
    "T_df_tran_without_price=pd.DataFrame(pca.project(df_train_without_price)[:,:11])"
   ]
  },
  {
   "cell_type": "raw",
   "metadata": {},
   "source": [
    "concat the price back to data\n",
    "need to drop NaN"
   ]
  },
  {
   "cell_type": "code",
   "execution_count": null,
   "metadata": {},
   "outputs": [],
   "source": [
    "data=pd.concat([price,T_df_tran_without_price],axis=1)\n",
    "data=data.dropna();"
   ]
  },
  {
   "cell_type": "markdown",
   "metadata": {},
   "source": [
    "a simple regressor"
   ]
  },
  {
   "cell_type": "code",
   "execution_count": null,
   "metadata": {
    "collapsed": true
   },
   "outputs": [],
   "source": [
    "from sklearn.ensemble import RandomForestRegressor"
   ]
  },
  {
   "cell_type": "code",
   "execution_count": null,
   "metadata": {
    "collapsed": true
   },
   "outputs": [],
   "source": [
    "regr = RandomForestRegressor(max_depth=9, random_state=0)"
   ]
  },
  {
   "cell_type": "code",
   "execution_count": null,
   "metadata": {},
   "outputs": [
    {
     "data": {
      "text/plain": [
       "RandomForestRegressor(bootstrap=True, criterion='mse', max_depth=5,\n",
       "           max_features='auto', max_leaf_nodes=None,\n",
       "           min_impurity_decrease=0.0, min_impurity_split=None,\n",
       "           min_samples_leaf=1, min_samples_split=2,\n",
       "           min_weight_fraction_leaf=0.0, n_estimators=10, n_jobs=1,\n",
       "           oob_score=False, random_state=0, verbose=0, warm_start=False)"
      ]
     },
     "execution_count": 66,
     "metadata": {},
     "output_type": "execute_result"
    }
   ],
   "source": [
    "regr.fit(data.drop('SalePrice',axis=1).values,data['SalePrice'].values )"
   ]
  },
  {
   "cell_type": "markdown",
   "metadata": {},
   "source": [
    "also need to drop the NaN\n",
    "I don't know why there will be NaN, shouldn't appear\n",
    "need to fix this"
   ]
  },
  {
   "cell_type": "code",
   "execution_count": null,
   "metadata": {},
   "outputs": [
    {
     "name": "stdout",
     "output_type": "stream",
     "text": [
      "        Id         0         1         2         3         4         5  \\\n",
      "0     1461 -3.550107 -2.714882 -1.512853 -1.039147  1.777678  0.102008   \n",
      "1     1462 -1.639602 -4.352647  1.359226  1.389149  1.247576 -0.522986   \n",
      "2     1463  1.991905  0.020864 -1.700700  2.789495 -1.166130  1.409504   \n",
      "3     1464  3.206924  0.616258 -1.151046  2.375985 -0.088105  1.213752   \n",
      "4     1465  2.782229 -0.485237 -2.233069 -1.249812 -2.359271  0.208872   \n",
      "5     1466  1.201604  0.079761 -1.398204  4.319326 -0.526806  1.041349   \n",
      "6     1467       NaN       NaN       NaN       NaN       NaN       NaN   \n",
      "7     1468  1.742398  1.555733 -1.740735  2.707100 -0.245975  1.853719   \n",
      "8     1469  1.227789 -2.008244 -1.619766 -0.416309 -0.965220  1.107936   \n",
      "9     1470 -2.636872 -5.198522 -1.346671 -1.120485  0.293166  0.002960   \n",
      "10    1471  2.329532 -0.887267 -2.656114 -1.525278 -2.137444 -1.140537   \n",
      "11    1472 -3.417035 -0.355222 -4.544776  1.547866 -0.105383 -6.816890   \n",
      "12    1473 -3.637251 -0.295440 -4.476380  2.488369 -0.428036 -6.563055   \n",
      "13    1474 -1.154792 -1.614285 -3.242590  3.312481 -2.936126 -4.557073   \n",
      "14    1475 -1.983297 -1.030540 -4.690202 -0.254036 -2.400361 -2.616743   \n",
      "15    1476  7.849218  3.803511  3.619088 -1.888959  3.888454 -1.929219   \n",
      "16    1477  6.300618  2.449305  0.004956 -2.929167  2.451494  1.913759   \n",
      "17    1478  6.283313  0.708136  2.473241 -2.132726  3.645456 -0.828545   \n",
      "18    1479  5.957456  0.487102  2.166518 -2.772339  2.796889 -2.233417   \n",
      "19    1480  8.834494 -0.906285  7.873489 -3.515983  1.585270 -2.030954   \n",
      "20    1481  6.692125  1.027000  1.199838  0.546261 -0.106383 -0.173509   \n",
      "21    1482  5.248478  1.363415 -1.976190 -2.420801 -0.994996  0.313523   \n",
      "22    1483  3.252352  1.323864 -1.742700  0.089600  0.075719  4.087541   \n",
      "23    1484  4.188064  1.481968 -4.012745 -2.449042 -2.132999  0.064111   \n",
      "24    1485  3.659554  1.463604 -1.897712  2.184074 -1.785845  1.953508   \n",
      "25    1486  3.813264  3.033068 -1.503886  3.277141 -0.777416  2.383281   \n",
      "26    1487  6.392971  1.246896  2.200384  3.406040  0.759249  0.973168   \n",
      "27    1488  4.979684  1.444187 -1.545307 -1.185134  0.906610  2.091114   \n",
      "28    1489  4.494135  3.476933 -2.511718 -3.752065  1.427129  1.259288   \n",
      "29    1490  4.246004  1.249039 -1.145838 -2.194253  0.248674  0.689038   \n",
      "...    ...       ...       ...       ...       ...       ...       ...   \n",
      "1429  2890 -6.542431  2.854787 -1.479663 -1.743755  0.771606  1.139967   \n",
      "1430  2891 -2.980316  1.788972 -1.144981  1.218929  1.977075 -1.062185   \n",
      "1431  2892       NaN       NaN       NaN       NaN       NaN       NaN   \n",
      "1432  2893       NaN       NaN       NaN       NaN       NaN       NaN   \n",
      "1433  2894       NaN       NaN       NaN       NaN       NaN       NaN   \n",
      "1434  2895  6.477449  0.455721  4.207310 -6.990145 -2.203702 -5.276218   \n",
      "1435  2896  5.006810 -0.500633  2.802108 -4.363832 -3.497450 -3.527213   \n",
      "1436  2897  0.891645 -3.864613  2.238624 -0.791779 -3.375219  1.335124   \n",
      "1437  2898 -1.675650 -1.270596  0.900653 -0.183220 -0.479082 -3.264532   \n",
      "1438  2899  3.570283  1.077718 -0.438859 -1.414179  1.750847  2.282278   \n",
      "1439  2900 -0.593633 -3.573133 -0.552217 -0.249393 -0.099074 -1.422932   \n",
      "1440  2901       NaN       NaN       NaN       NaN       NaN       NaN   \n",
      "1441  2902       NaN       NaN       NaN       NaN       NaN       NaN   \n",
      "1442  2903  7.533967  1.091669  2.709454 -4.314661  1.383084  0.507526   \n",
      "1443  2904  7.866851  0.345522  3.909257 -4.636549  2.392246 -1.781687   \n",
      "1444  2905 -6.725307  1.303138  2.074867 -1.593737 -1.103144  1.662970   \n",
      "1445  2906  1.255069 -0.871302 -0.842735 -1.475876 -2.671287 -4.849934   \n",
      "1446  2907 -0.995548  2.217042 -4.180713  1.298641 -3.291371 -5.815550   \n",
      "1447  2908 -1.481915 -3.371679 -1.909953 -0.712757 -0.033890  1.076201   \n",
      "1448  2909       NaN       NaN       NaN       NaN       NaN       NaN   \n",
      "1449  2910       NaN       NaN       NaN       NaN       NaN       NaN   \n",
      "1450  2911 -4.012976  1.376376 -3.902057 -0.409384 -2.242340 -6.449823   \n",
      "1451  2912 -0.818962 -4.278709  0.832775 -0.921458 -1.704029  0.602735   \n",
      "1452  2913 -4.001503  0.772941 -3.934558 -0.200735 -2.516883 -7.919116   \n",
      "1453  2914       NaN       NaN       NaN       NaN       NaN       NaN   \n",
      "1454  2915       NaN       NaN       NaN       NaN       NaN       NaN   \n",
      "1455  2916 -3.775682  0.803505 -3.665556 -0.514229 -2.455116 -7.388202   \n",
      "1456  2917 -0.775334 -2.039905 -0.347566 -0.757323  1.609842  0.554505   \n",
      "1457  2918       NaN       NaN       NaN       NaN       NaN       NaN   \n",
      "1458  2919  2.559104 -1.424499  0.367858  2.823570 -2.117540 -0.701783   \n",
      "\n",
      "             6         7         8         9  \n",
      "0     0.541016  1.236394 -0.457195  0.221810  \n",
      "1     2.274020  0.685287 -3.120103  9.447740  \n",
      "2     0.840194 -0.847971 -0.571654  0.316119  \n",
      "3     0.533159 -0.969612 -0.612659 -0.133885  \n",
      "4    -0.942328 -1.099970 -1.345717 -0.914056  \n",
      "5     1.461291 -0.185085 -1.024304  0.786206  \n",
      "6          NaN       NaN       NaN       NaN  \n",
      "7     0.873448  0.779641 -0.613046  0.561171  \n",
      "8    -0.077160 -1.492791  0.196717 -0.373125  \n",
      "9     0.914012  0.722847  1.269706  0.692956  \n",
      "10   -1.369816 -0.960040  0.012007 -1.210239  \n",
      "11   -0.763619  0.879059 -1.212985 -1.078041  \n",
      "12   -0.699049 -0.206542 -1.305757 -1.585768  \n",
      "13    0.700089  2.419679  2.189561 -1.516511  \n",
      "14    0.512335  2.923278  2.443741 -0.766706  \n",
      "15    0.643267  2.383486 -0.292515  1.818043  \n",
      "16    1.490803  3.037755 -0.200342  1.458818  \n",
      "17    1.227625 -1.457370 -0.309585 -0.475772  \n",
      "18    0.017197 -1.962628  0.282688 -0.068056  \n",
      "19   -1.698647 -2.903957 -3.638991 -2.199243  \n",
      "20    0.549443 -2.088825  0.129532 -1.034259  \n",
      "21    0.070502 -0.790246  0.270045 -0.708519  \n",
      "22    1.208460  0.443229 -0.129680  0.590345  \n",
      "23    0.488148 -0.944922  0.644571 -1.366280  \n",
      "24    0.257402 -0.698025 -0.190985  0.181852  \n",
      "25    0.575282  0.720345 -0.454639  0.461739  \n",
      "26    1.234614 -0.695054 -0.496268 -0.986798  \n",
      "27    0.555047  0.889388  0.035469 -1.132866  \n",
      "28   -0.523051  4.388115  0.581625  0.966076  \n",
      "29   -1.605096 -0.126728  1.025942 -0.865509  \n",
      "...        ...       ...       ...       ...  \n",
      "1429 -2.140736 -0.510416 -1.142504  0.511967  \n",
      "1430 -1.596604  0.911196 -1.770523 -0.688596  \n",
      "1431       NaN       NaN       NaN       NaN  \n",
      "1432       NaN       NaN       NaN       NaN  \n",
      "1433       NaN       NaN       NaN       NaN  \n",
      "1434 -5.760889 -1.807247 -2.040484 -0.534055  \n",
      "1435 -5.931431 -3.469507 -1.885584 -2.096953  \n",
      "1436 -0.266627 -0.429656 -1.749858 -0.006720  \n",
      "1437  3.374475  3.628772 -2.406936 -0.465603  \n",
      "1438  1.243424  0.042480  0.082544  0.170172  \n",
      "1439  1.402724 -0.368039 -0.005759  0.218276  \n",
      "1440       NaN       NaN       NaN       NaN  \n",
      "1441       NaN       NaN       NaN       NaN  \n",
      "1442  0.686966  1.203808  0.611401  0.400065  \n",
      "1443  0.279147 -0.094983 -0.314977  0.312815  \n",
      "1444  2.636485  1.027746  0.492052  0.762575  \n",
      "1445 -0.477856 -1.695373 -0.923481 -0.693511  \n",
      "1446 -2.606762 -1.061312  1.420904  1.041768  \n",
      "1447  0.365653 -0.001728  0.362089  1.607479  \n",
      "1448       NaN       NaN       NaN       NaN  \n",
      "1449       NaN       NaN       NaN       NaN  \n",
      "1450 -2.187565 -1.375046  1.696389  0.700756  \n",
      "1451  0.710092  0.270723 -1.193026 -1.412403  \n",
      "1452 -2.940706  1.405208  0.344516  1.512725  \n",
      "1453       NaN       NaN       NaN       NaN  \n",
      "1454       NaN       NaN       NaN       NaN  \n",
      "1455 -2.743886  1.307857  0.383982  1.448175  \n",
      "1456 -0.159648  0.244575 -0.123667  0.370481  \n",
      "1457       NaN       NaN       NaN       NaN  \n",
      "1458 -0.269184 -0.874800 -2.607773 -1.574320  \n",
      "\n",
      "[1459 rows x 11 columns]\n"
     ]
    },
    {
     "data": {
      "text/plain": [
       "(1146, 11)"
      ]
     },
     "execution_count": 67,
     "metadata": {},
     "output_type": "execute_result"
    }
   ],
   "source": [
    "df_test_without_price=df_test.drop('SalePrice',1)\n",
    "T_df_test_without_price=pd.DataFrame(pca.project(df_test_without_price)[:,:11])\n",
    "#id_T=pd.concat([df_test['Id'],T_df_test_without_price],axis=1)\n",
    "data=T_df_test_without_price.dropna();"
   ]
  },
  {
   "cell_type": "code",
   "execution_count": null,
   "metadata": {},
   "outputs": [],
   "source": [
    "predict=regr.predict(data.values)"
   ]
  },
  {
   "cell_type": "markdown",
   "metadata": {},
   "source": [
    "write the upload result to result.csv"
   ]
  },
  {
   "cell_type": "code",
   "execution_count": null,
   "metadata": {},
   "outputs": [],
   "source": [
    "res=pd.DataFrame({'Id':xrange(1461,2920),'SalePrice':predict})\n",
    "res.to_csv('./data/result_1.csv',index=False)"
   ]
  },
  {
   "cell_type": "code",
   "execution_count": null,
   "metadata": {
    "collapsed": true
   },
   "outputs": [],
   "source": [
    ""
   ]
  }
 ],
 "metadata": {
  "kernelspec": {
   "display_name": "Python 3",
   "language": "python",
   "name": "python3"
  },
  "language_info": {
   "codemirror_mode": {
    "name": "ipython",
    "version": 3
   },
   "file_extension": ".py",
   "mimetype": "text/x-python",
   "name": "python",
   "nbconvert_exporter": "python",
   "pygments_lexer": "ipython3",
   "version": "3.6.2"
  }
 },
 "nbformat": 4,
 "nbformat_minor": 0
}
